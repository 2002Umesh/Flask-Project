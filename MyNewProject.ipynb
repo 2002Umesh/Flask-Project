{
 "cells": [
  {
   "cell_type": "code",
   "execution_count": 1,
   "id": "acd692f4-382d-4b9c-9a4c-638d064f80cd",
   "metadata": {},
   "outputs": [],
   "source": [
    "import numpy as np\n",
    "import pandas as pd "
   ]
  },
  {
   "cell_type": "code",
   "execution_count": 2,
   "id": "e253de78-e549-4233-88ef-99c2d5a607d3",
   "metadata": {},
   "outputs": [],
   "source": [
    "data = pd.read_csv(\"./archive/Placement_Data_Full_Class.csv\")"
   ]
  },
  {
   "cell_type": "code",
   "execution_count": 3,
   "id": "301766a9-7951-495c-9b26-da47c7d680ce",
   "metadata": {},
   "outputs": [
    {
     "data": {
      "text/html": [
       "<div>\n",
       "<style scoped>\n",
       "    .dataframe tbody tr th:only-of-type {\n",
       "        vertical-align: middle;\n",
       "    }\n",
       "\n",
       "    .dataframe tbody tr th {\n",
       "        vertical-align: top;\n",
       "    }\n",
       "\n",
       "    .dataframe thead th {\n",
       "        text-align: right;\n",
       "    }\n",
       "</style>\n",
       "<table border=\"1\" class=\"dataframe\">\n",
       "  <thead>\n",
       "    <tr style=\"text-align: right;\">\n",
       "      <th></th>\n",
       "      <th>sl_no</th>\n",
       "      <th>gender</th>\n",
       "      <th>ssc_p</th>\n",
       "      <th>ssc_b</th>\n",
       "      <th>hsc_p</th>\n",
       "      <th>hsc_b</th>\n",
       "      <th>hsc_s</th>\n",
       "      <th>degree_p</th>\n",
       "      <th>degree_t</th>\n",
       "      <th>workex</th>\n",
       "      <th>etest_p</th>\n",
       "      <th>specialisation</th>\n",
       "      <th>mba_p</th>\n",
       "      <th>status</th>\n",
       "      <th>salary</th>\n",
       "    </tr>\n",
       "  </thead>\n",
       "  <tbody>\n",
       "    <tr>\n",
       "      <th>0</th>\n",
       "      <td>1</td>\n",
       "      <td>M</td>\n",
       "      <td>67.00</td>\n",
       "      <td>Others</td>\n",
       "      <td>91.00</td>\n",
       "      <td>Others</td>\n",
       "      <td>Commerce</td>\n",
       "      <td>58.00</td>\n",
       "      <td>Sci&amp;Tech</td>\n",
       "      <td>No</td>\n",
       "      <td>55.0</td>\n",
       "      <td>Mkt&amp;HR</td>\n",
       "      <td>58.80</td>\n",
       "      <td>Placed</td>\n",
       "      <td>270000.0</td>\n",
       "    </tr>\n",
       "    <tr>\n",
       "      <th>1</th>\n",
       "      <td>2</td>\n",
       "      <td>M</td>\n",
       "      <td>79.33</td>\n",
       "      <td>Central</td>\n",
       "      <td>78.33</td>\n",
       "      <td>Others</td>\n",
       "      <td>Science</td>\n",
       "      <td>77.48</td>\n",
       "      <td>Sci&amp;Tech</td>\n",
       "      <td>Yes</td>\n",
       "      <td>86.5</td>\n",
       "      <td>Mkt&amp;Fin</td>\n",
       "      <td>66.28</td>\n",
       "      <td>Placed</td>\n",
       "      <td>200000.0</td>\n",
       "    </tr>\n",
       "    <tr>\n",
       "      <th>2</th>\n",
       "      <td>3</td>\n",
       "      <td>M</td>\n",
       "      <td>65.00</td>\n",
       "      <td>Central</td>\n",
       "      <td>68.00</td>\n",
       "      <td>Central</td>\n",
       "      <td>Arts</td>\n",
       "      <td>64.00</td>\n",
       "      <td>Comm&amp;Mgmt</td>\n",
       "      <td>No</td>\n",
       "      <td>75.0</td>\n",
       "      <td>Mkt&amp;Fin</td>\n",
       "      <td>57.80</td>\n",
       "      <td>Placed</td>\n",
       "      <td>250000.0</td>\n",
       "    </tr>\n",
       "    <tr>\n",
       "      <th>3</th>\n",
       "      <td>4</td>\n",
       "      <td>M</td>\n",
       "      <td>56.00</td>\n",
       "      <td>Central</td>\n",
       "      <td>52.00</td>\n",
       "      <td>Central</td>\n",
       "      <td>Science</td>\n",
       "      <td>52.00</td>\n",
       "      <td>Sci&amp;Tech</td>\n",
       "      <td>No</td>\n",
       "      <td>66.0</td>\n",
       "      <td>Mkt&amp;HR</td>\n",
       "      <td>59.43</td>\n",
       "      <td>Not Placed</td>\n",
       "      <td>NaN</td>\n",
       "    </tr>\n",
       "    <tr>\n",
       "      <th>4</th>\n",
       "      <td>5</td>\n",
       "      <td>M</td>\n",
       "      <td>85.80</td>\n",
       "      <td>Central</td>\n",
       "      <td>73.60</td>\n",
       "      <td>Central</td>\n",
       "      <td>Commerce</td>\n",
       "      <td>73.30</td>\n",
       "      <td>Comm&amp;Mgmt</td>\n",
       "      <td>No</td>\n",
       "      <td>96.8</td>\n",
       "      <td>Mkt&amp;Fin</td>\n",
       "      <td>55.50</td>\n",
       "      <td>Placed</td>\n",
       "      <td>425000.0</td>\n",
       "    </tr>\n",
       "  </tbody>\n",
       "</table>\n",
       "</div>"
      ],
      "text/plain": [
       "   sl_no gender  ssc_p    ssc_b  hsc_p    hsc_b     hsc_s  degree_p  \\\n",
       "0      1      M  67.00   Others  91.00   Others  Commerce     58.00   \n",
       "1      2      M  79.33  Central  78.33   Others   Science     77.48   \n",
       "2      3      M  65.00  Central  68.00  Central      Arts     64.00   \n",
       "3      4      M  56.00  Central  52.00  Central   Science     52.00   \n",
       "4      5      M  85.80  Central  73.60  Central  Commerce     73.30   \n",
       "\n",
       "    degree_t workex  etest_p specialisation  mba_p      status    salary  \n",
       "0   Sci&Tech     No     55.0         Mkt&HR  58.80      Placed  270000.0  \n",
       "1   Sci&Tech    Yes     86.5        Mkt&Fin  66.28      Placed  200000.0  \n",
       "2  Comm&Mgmt     No     75.0        Mkt&Fin  57.80      Placed  250000.0  \n",
       "3   Sci&Tech     No     66.0         Mkt&HR  59.43  Not Placed       NaN  \n",
       "4  Comm&Mgmt     No     96.8        Mkt&Fin  55.50      Placed  425000.0  "
      ]
     },
     "execution_count": 3,
     "metadata": {},
     "output_type": "execute_result"
    }
   ],
   "source": [
    "data.head()"
   ]
  },
  {
   "cell_type": "code",
   "execution_count": 4,
   "id": "87d97553-e525-4bc5-b9bd-04eeed4856b1",
   "metadata": {},
   "outputs": [],
   "source": [
    "data.drop([\"ssc_b\",\"hsc_b\",\"hsc_s\",\"degree_t\",\"salary\"],axis=1,inplace=True)"
   ]
  },
  {
   "cell_type": "code",
   "execution_count": 5,
   "id": "710b2e61-9c30-4d0e-acef-3b8505484eca",
   "metadata": {},
   "outputs": [
    {
     "data": {
      "text/html": [
       "<div>\n",
       "<style scoped>\n",
       "    .dataframe tbody tr th:only-of-type {\n",
       "        vertical-align: middle;\n",
       "    }\n",
       "\n",
       "    .dataframe tbody tr th {\n",
       "        vertical-align: top;\n",
       "    }\n",
       "\n",
       "    .dataframe thead th {\n",
       "        text-align: right;\n",
       "    }\n",
       "</style>\n",
       "<table border=\"1\" class=\"dataframe\">\n",
       "  <thead>\n",
       "    <tr style=\"text-align: right;\">\n",
       "      <th></th>\n",
       "      <th>sl_no</th>\n",
       "      <th>gender</th>\n",
       "      <th>ssc_p</th>\n",
       "      <th>hsc_p</th>\n",
       "      <th>degree_p</th>\n",
       "      <th>workex</th>\n",
       "      <th>etest_p</th>\n",
       "      <th>specialisation</th>\n",
       "      <th>mba_p</th>\n",
       "      <th>status</th>\n",
       "    </tr>\n",
       "  </thead>\n",
       "  <tbody>\n",
       "    <tr>\n",
       "      <th>0</th>\n",
       "      <td>1</td>\n",
       "      <td>M</td>\n",
       "      <td>67.00</td>\n",
       "      <td>91.00</td>\n",
       "      <td>58.00</td>\n",
       "      <td>No</td>\n",
       "      <td>55.0</td>\n",
       "      <td>Mkt&amp;HR</td>\n",
       "      <td>58.80</td>\n",
       "      <td>Placed</td>\n",
       "    </tr>\n",
       "    <tr>\n",
       "      <th>1</th>\n",
       "      <td>2</td>\n",
       "      <td>M</td>\n",
       "      <td>79.33</td>\n",
       "      <td>78.33</td>\n",
       "      <td>77.48</td>\n",
       "      <td>Yes</td>\n",
       "      <td>86.5</td>\n",
       "      <td>Mkt&amp;Fin</td>\n",
       "      <td>66.28</td>\n",
       "      <td>Placed</td>\n",
       "    </tr>\n",
       "    <tr>\n",
       "      <th>2</th>\n",
       "      <td>3</td>\n",
       "      <td>M</td>\n",
       "      <td>65.00</td>\n",
       "      <td>68.00</td>\n",
       "      <td>64.00</td>\n",
       "      <td>No</td>\n",
       "      <td>75.0</td>\n",
       "      <td>Mkt&amp;Fin</td>\n",
       "      <td>57.80</td>\n",
       "      <td>Placed</td>\n",
       "    </tr>\n",
       "    <tr>\n",
       "      <th>3</th>\n",
       "      <td>4</td>\n",
       "      <td>M</td>\n",
       "      <td>56.00</td>\n",
       "      <td>52.00</td>\n",
       "      <td>52.00</td>\n",
       "      <td>No</td>\n",
       "      <td>66.0</td>\n",
       "      <td>Mkt&amp;HR</td>\n",
       "      <td>59.43</td>\n",
       "      <td>Not Placed</td>\n",
       "    </tr>\n",
       "    <tr>\n",
       "      <th>4</th>\n",
       "      <td>5</td>\n",
       "      <td>M</td>\n",
       "      <td>85.80</td>\n",
       "      <td>73.60</td>\n",
       "      <td>73.30</td>\n",
       "      <td>No</td>\n",
       "      <td>96.8</td>\n",
       "      <td>Mkt&amp;Fin</td>\n",
       "      <td>55.50</td>\n",
       "      <td>Placed</td>\n",
       "    </tr>\n",
       "  </tbody>\n",
       "</table>\n",
       "</div>"
      ],
      "text/plain": [
       "   sl_no gender  ssc_p  hsc_p  degree_p workex  etest_p specialisation  mba_p  \\\n",
       "0      1      M  67.00  91.00     58.00     No     55.0         Mkt&HR  58.80   \n",
       "1      2      M  79.33  78.33     77.48    Yes     86.5        Mkt&Fin  66.28   \n",
       "2      3      M  65.00  68.00     64.00     No     75.0        Mkt&Fin  57.80   \n",
       "3      4      M  56.00  52.00     52.00     No     66.0         Mkt&HR  59.43   \n",
       "4      5      M  85.80  73.60     73.30     No     96.8        Mkt&Fin  55.50   \n",
       "\n",
       "       status  \n",
       "0      Placed  \n",
       "1      Placed  \n",
       "2      Placed  \n",
       "3  Not Placed  \n",
       "4      Placed  "
      ]
     },
     "execution_count": 5,
     "metadata": {},
     "output_type": "execute_result"
    }
   ],
   "source": [
    "data.head()"
   ]
  },
  {
   "cell_type": "code",
   "execution_count": 6,
   "id": "8d15d1f2-6d9b-4561-92db-087f4d8a42a5",
   "metadata": {},
   "outputs": [
    {
     "data": {
      "text/plain": [
       "(215, 10)"
      ]
     },
     "execution_count": 6,
     "metadata": {},
     "output_type": "execute_result"
    }
   ],
   "source": [
    "data.shape"
   ]
  },
  {
   "cell_type": "code",
   "execution_count": 7,
   "id": "9cc637e0-75f7-4ce8-8241-a3de1c827c90",
   "metadata": {},
   "outputs": [
    {
     "data": {
      "text/plain": [
       "sl_no             0\n",
       "gender            0\n",
       "ssc_p             0\n",
       "hsc_p             0\n",
       "degree_p          0\n",
       "workex            0\n",
       "etest_p           0\n",
       "specialisation    0\n",
       "mba_p             0\n",
       "status            0\n",
       "dtype: int64"
      ]
     },
     "execution_count": 7,
     "metadata": {},
     "output_type": "execute_result"
    }
   ],
   "source": [
    "data.isnull().sum()"
   ]
  },
  {
   "cell_type": "markdown",
   "id": "3bd276bc-d232-4c3e-81b7-851c2eebe881",
   "metadata": {},
   "source": [
    "# Preprocessing"
   ]
  },
  {
   "cell_type": "code",
   "execution_count": null,
   "id": "185befb3-abdf-4043-b5f6-21f6263adc42",
   "metadata": {},
   "outputs": [],
   "source": []
  },
  {
   "cell_type": "markdown",
   "id": "54727d1c-d644-4e8a-9e5d-08b60c9a72c0",
   "metadata": {},
   "source": [
    "# Encoding"
   ]
  },
  {
   "cell_type": "code",
   "execution_count": 8,
   "id": "b278dda8-1c11-4c8e-afe5-170a1ca9a2d3",
   "metadata": {},
   "outputs": [],
   "source": [
    "data[\"gender\"]=data[\"gender\"].map({\"M\":0,\"F\":1})\n",
    "data[\"workex\"]=data[\"workex\"].map({\"No\":0,\"Yes\":1})\n",
    "data[\"status\"]=data[\"status\"].map({\"Not Placed\":0,\"Placed\":1})\n",
    "data[\"specialisation\"]=data[\"specialisation\"].map({\"Mkt&HR\":0,\"Mkt&Fin\":1})"
   ]
  },
  {
   "cell_type": "code",
   "execution_count": 9,
   "id": "72e0c58c-1dac-436d-b917-d8f9a1e21f13",
   "metadata": {},
   "outputs": [
    {
     "data": {
      "text/html": [
       "<div>\n",
       "<style scoped>\n",
       "    .dataframe tbody tr th:only-of-type {\n",
       "        vertical-align: middle;\n",
       "    }\n",
       "\n",
       "    .dataframe tbody tr th {\n",
       "        vertical-align: top;\n",
       "    }\n",
       "\n",
       "    .dataframe thead th {\n",
       "        text-align: right;\n",
       "    }\n",
       "</style>\n",
       "<table border=\"1\" class=\"dataframe\">\n",
       "  <thead>\n",
       "    <tr style=\"text-align: right;\">\n",
       "      <th></th>\n",
       "      <th>sl_no</th>\n",
       "      <th>gender</th>\n",
       "      <th>ssc_p</th>\n",
       "      <th>hsc_p</th>\n",
       "      <th>degree_p</th>\n",
       "      <th>workex</th>\n",
       "      <th>etest_p</th>\n",
       "      <th>specialisation</th>\n",
       "      <th>mba_p</th>\n",
       "      <th>status</th>\n",
       "    </tr>\n",
       "  </thead>\n",
       "  <tbody>\n",
       "    <tr>\n",
       "      <th>213</th>\n",
       "      <td>214</td>\n",
       "      <td>1</td>\n",
       "      <td>74.0</td>\n",
       "      <td>66.00</td>\n",
       "      <td>58.00</td>\n",
       "      <td>0</td>\n",
       "      <td>70.00</td>\n",
       "      <td>0</td>\n",
       "      <td>60.23</td>\n",
       "      <td>1</td>\n",
       "    </tr>\n",
       "    <tr>\n",
       "      <th>109</th>\n",
       "      <td>110</td>\n",
       "      <td>0</td>\n",
       "      <td>52.0</td>\n",
       "      <td>63.00</td>\n",
       "      <td>65.00</td>\n",
       "      <td>1</td>\n",
       "      <td>86.00</td>\n",
       "      <td>0</td>\n",
       "      <td>56.09</td>\n",
       "      <td>0</td>\n",
       "    </tr>\n",
       "    <tr>\n",
       "      <th>49</th>\n",
       "      <td>50</td>\n",
       "      <td>1</td>\n",
       "      <td>50.0</td>\n",
       "      <td>37.00</td>\n",
       "      <td>52.00</td>\n",
       "      <td>0</td>\n",
       "      <td>65.00</td>\n",
       "      <td>0</td>\n",
       "      <td>56.11</td>\n",
       "      <td>0</td>\n",
       "    </tr>\n",
       "    <tr>\n",
       "      <th>59</th>\n",
       "      <td>60</td>\n",
       "      <td>0</td>\n",
       "      <td>52.6</td>\n",
       "      <td>65.58</td>\n",
       "      <td>72.11</td>\n",
       "      <td>0</td>\n",
       "      <td>57.60</td>\n",
       "      <td>1</td>\n",
       "      <td>56.66</td>\n",
       "      <td>1</td>\n",
       "    </tr>\n",
       "    <tr>\n",
       "      <th>78</th>\n",
       "      <td>79</td>\n",
       "      <td>0</td>\n",
       "      <td>84.0</td>\n",
       "      <td>90.90</td>\n",
       "      <td>64.50</td>\n",
       "      <td>0</td>\n",
       "      <td>86.04</td>\n",
       "      <td>1</td>\n",
       "      <td>59.42</td>\n",
       "      <td>1</td>\n",
       "    </tr>\n",
       "  </tbody>\n",
       "</table>\n",
       "</div>"
      ],
      "text/plain": [
       "     sl_no  gender  ssc_p  hsc_p  degree_p  workex  etest_p  specialisation  \\\n",
       "213    214       1   74.0  66.00     58.00       0    70.00               0   \n",
       "109    110       0   52.0  63.00     65.00       1    86.00               0   \n",
       "49      50       1   50.0  37.00     52.00       0    65.00               0   \n",
       "59      60       0   52.6  65.58     72.11       0    57.60               1   \n",
       "78      79       0   84.0  90.90     64.50       0    86.04               1   \n",
       "\n",
       "     mba_p  status  \n",
       "213  60.23       1  \n",
       "109  56.09       0  \n",
       "49   56.11       0  \n",
       "59   56.66       1  \n",
       "78   59.42       1  "
      ]
     },
     "execution_count": 9,
     "metadata": {},
     "output_type": "execute_result"
    }
   ],
   "source": [
    "data.sample(5)"
   ]
  },
  {
   "cell_type": "markdown",
   "id": "7c37d0a2-affe-4578-b562-dcd6d31a7ac4",
   "metadata": {},
   "source": [
    "# Balance Dataset"
   ]
  },
  {
   "cell_type": "code",
   "execution_count": 10,
   "id": "5fbdacc5-be6b-4639-85a1-1026f6585b0e",
   "metadata": {},
   "outputs": [
    {
     "data": {
      "text/plain": [
       "status\n",
       "1    148\n",
       "0     67\n",
       "Name: count, dtype: int64"
      ]
     },
     "execution_count": 10,
     "metadata": {},
     "output_type": "execute_result"
    }
   ],
   "source": [
    "data[\"status\"].value_counts()"
   ]
  },
  {
   "cell_type": "code",
   "execution_count": 11,
   "id": "2d5045fc-b0d6-417f-9431-97c579592b5e",
   "metadata": {},
   "outputs": [],
   "source": [
    "from sklearn.utils import resample\n",
    "\n",
    "data_minority = data[data[\"status\"]==0]\n",
    "data_majority = data[data[\"status\"]==1]\n",
    "\n",
    "minority_resampled_data = resample(data_minority,\n",
    "        replace=True,\n",
    "        n_samples=len(data_majority),random_state=43)\n",
    "balanced_data=pd.concat([data_majority,minority_resampled_data])"
   ]
  },
  {
   "cell_type": "code",
   "execution_count": 12,
   "id": "92e2d2b0-334f-472e-b0d5-303ef52188e3",
   "metadata": {},
   "outputs": [
    {
     "data": {
      "text/plain": [
       "status\n",
       "1    148\n",
       "0    148\n",
       "Name: count, dtype: int64"
      ]
     },
     "execution_count": 12,
     "metadata": {},
     "output_type": "execute_result"
    }
   ],
   "source": [
    "balanced_data[\"status\"].value_counts()"
   ]
  },
  {
   "cell_type": "markdown",
   "id": "05a94837-30ae-4f1e-9f59-6d6aeb92ecc6",
   "metadata": {},
   "source": [
    "# Train Test Split"
   ]
  },
  {
   "cell_type": "code",
   "execution_count": 13,
   "id": "865e3c3e-654c-471e-851c-96e8d0af8e01",
   "metadata": {},
   "outputs": [],
   "source": [
    "X=balanced_data.copy().drop(\"status\",axis=1)\n",
    "Y=balanced_data[\"status\"]"
   ]
  },
  {
   "cell_type": "code",
   "execution_count": 14,
   "id": "0769634b-5318-402d-bea0-5c0d8eacfb2e",
   "metadata": {},
   "outputs": [
    {
     "data": {
      "text/plain": [
       "((207, 9), (89, 9), (207,), (89,))"
      ]
     },
     "execution_count": 14,
     "metadata": {},
     "output_type": "execute_result"
    }
   ],
   "source": [
    "from sklearn.model_selection import train_test_split\n",
    "X_train, X_test, Y_train, Y_test = train_test_split(X,Y,test_size=0.3,random_state=42)\n",
    "X_train.shape, X_test.shape, Y_train.shape, Y_test.shape"
   ]
  },
  {
   "cell_type": "markdown",
   "id": "809e84ba-23ac-4870-9ffe-c3399e7d2f4c",
   "metadata": {},
   "source": [
    "# Feature Scaling"
   ]
  },
  {
   "cell_type": "code",
   "execution_count": 15,
   "id": "50c4dc57-945c-4c0a-925e-d86afe2e80b7",
   "metadata": {},
   "outputs": [
    {
     "data": {
      "text/plain": [
       "array([[0.47196262, 0.        , 0.45578231, ..., 0.58333333, 0.        ,\n",
       "        0.34398496],\n",
       "       [0.79439252, 1.        , 0.46402804, ..., 0.16791667, 0.        ,\n",
       "        0.67631579],\n",
       "       [0.56074766, 0.        , 0.35271078, ..., 0.47916667, 0.        ,\n",
       "        0.28270677],\n",
       "       ...,\n",
       "       [0.68691589, 0.        , 0.60008246, ..., 0.6875    , 1.        ,\n",
       "        0.41315789],\n",
       "       [0.40654206, 0.        , 0.38569367, ..., 0.52083333, 0.        ,\n",
       "        0.29285714],\n",
       "       [0.6635514 , 0.        , 0.90929705, ..., 0.20833333, 1.        ,\n",
       "        0.37593985]])"
      ]
     },
     "execution_count": 15,
     "metadata": {},
     "output_type": "execute_result"
    }
   ],
   "source": [
    "from sklearn.preprocessing import MinMaxScaler\n",
    "\n",
    "scaler = MinMaxScaler()\n",
    "\n",
    "X_train = scaler.fit_transform(X_train)\n",
    "X_test = scaler.fit_transform(X_test)\n",
    "X_train\n",
    "# np.isnan(X_train).any(axis=1)"
   ]
  },
  {
   "cell_type": "code",
   "execution_count": 16,
   "id": "927b2a46-4d52-4e48-a674-1ddbbeabfed4",
   "metadata": {},
   "outputs": [],
   "source": [
    "# Y_train.head()"
   ]
  },
  {
   "cell_type": "markdown",
   "id": "df43bf7b-dd22-4730-8427-f4406b655789",
   "metadata": {},
   "source": [
    "# 1 k-nearest neighbour"
   ]
  },
  {
   "cell_type": "code",
   "execution_count": 17,
   "id": "694e4575-8720-4db3-8a72-c2bc840cca7a",
   "metadata": {},
   "outputs": [
    {
     "data": {
      "text/plain": [
       "0.8651685393258427"
      ]
     },
     "execution_count": 17,
     "metadata": {},
     "output_type": "execute_result"
    }
   ],
   "source": [
    "from sklearn.neighbors import KNeighborsClassifier\n",
    "from sklearn.metrics import accuracy_score\n",
    "\n",
    "knn = KNeighborsClassifier(n_neighbors=3)\n",
    "knn.fit(X_train,Y_train)\n",
    "\n",
    "knn_Y_pred = knn.predict(X_test)\n",
    "accuracy_score = accuracy_score(knn_Y_pred,Y_test)\n",
    "accuracy_score"
   ]
  },
  {
   "cell_type": "code",
   "execution_count": 18,
   "id": "953a3efb-b313-48e7-8e77-97f0ade8d19d",
   "metadata": {},
   "outputs": [
    {
     "data": {
      "image/png": "[encoded data removed]",
      "text/plain": [
       "<Figure size 1000x700 with 2 Axes>"
      ]
     },
     "metadata": {},
     "output_type": "display_data"
    }
   ],
   "source": [
    "from sklearn.metrics import confusion_matrix\n",
    "import matplotlib.pyplot as plt\n",
    "import seaborn as sns\n",
    "\n",
    "conf_mat = confusion_matrix(Y_test,knn_Y_pred)\n",
    "fig = plt.figure(figsize=(10,7))\n",
    "\n",
    "\n",
    "grp_name = [\"True Neg\",\"False Pos\",\"False Neg\",\"True Pos\"]\n",
    "grp_counts = [\"{0:0.0f}\".format(value) for value in conf_mat.flatten()]\n",
    "labels = [f\"{v1}\\n{v2}\" for v1,v2 in zip(grp_name,grp_counts)]\n",
    "labels = np.asarray(labels).reshape(2,2)\n",
    "\n",
    "sns.heatmap(conf_mat, annot=labels, annot_kws={\"size\": 16}, fmt=\"\")\n",
    "plt.title(\"Confusion Matrix\")\n",
    "plt.xlabel(\"Predicted Label\")\n",
    "plt.ylabel(\"True Label\")\n",
    "plt.show()"
   ]
  },
  {
   "cell_type": "markdown",
   "id": "7097f2ce-cb09-499d-969f-09d537a80499",
   "metadata": {},
   "source": [
    "# Decision Tree"
   ]
  },
  {
   "cell_type": "code",
   "execution_count": 19,
   "id": "2c908be7-fdf9-4215-aaf5-2860bd417520",
   "metadata": {},
   "outputs": [
    {
     "data": {
      "text/plain": [
       "0.7752808988764045"
      ]
     },
     "execution_count": 19,
     "metadata": {},
     "output_type": "execute_result"
    }
   ],
   "source": [
    "from sklearn.tree import DecisionTreeClassifier\n",
    "from sklearn.metrics import accuracy_score\n",
    "\n",
    "decision_tree = DecisionTreeClassifier()\n",
    "decision_tree.fit(X_train,Y_train)\n",
    "\n",
    "decision_tree_Y_pred = decision_tree.predict(X_test)\n",
    "# decision_tree.score(X_test,Y_test)\n",
    "decision_tree_accuracy = accuracy_score(decision_tree_Y_pred,Y_test)\n",
    "decision_tree_accuracy"
   ]
  },
  {
   "cell_type": "code",
   "execution_count": 20,
   "id": "ab384085-cf4e-482f-9b4f-4981d8d38298",
   "metadata": {},
   "outputs": [
    {
     "data": {
      "image/png": "[encoded data removed]",
      "text/plain": [
       "<Figure size 1000x700 with 2 Axes>"
      ]
     },
     "metadata": {},
     "output_type": "display_data"
    }
   ],
   "source": [
    "# from sklearn.metrics import confusion_matrix\n",
    "# import matplotlib.pyplot as plt\n",
    "# import seaborn as sns\n",
    "\n",
    "conf_mat = confusion_matrix(Y_test,decision_tree_Y_pred)\n",
    "fig = plt.figure(figsize=(10,7))\n",
    "\n",
    "\n",
    "grp_name = [\"True Neg\",\"False Pos\",\"False Neg\",\"True Pos\"]\n",
    "grp_counts = [\"{0:0.0f}\".format(value) for value in conf_mat.flatten()]\n",
    "labels = [f\"{v1}\\n{v2}\" for v1,v2 in zip(grp_name,grp_counts)]\n",
    "labels = np.asarray(labels).reshape(2,2)\n",
    "\n",
    "sns.heatmap(conf_mat, annot=labels, annot_kws={\"size\": 16}, fmt=\"\")\n",
    "plt.title(\"Confusion Matrix\")\n",
    "plt.xlabel(\"Predicted Label\")\n",
    "plt.ylabel(\"True Label\")\n",
    "plt.show()"
   ]
  },
  {
   "cell_type": "markdown",
   "id": "7190b39f-0696-4e49-b93e-7be0e31a8ed5",
   "metadata": {},
   "source": [
    "# SVM(Support Vector Machine)"
   ]
  },
  {
   "cell_type": "code",
   "execution_count": 21,
   "id": "cd09ba60-0b9d-46c1-a37c-f6ac48b7f706",
   "metadata": {},
   "outputs": [
    {
     "data": {
      "text/plain": [
       "0.8539325842696629"
      ]
     },
     "execution_count": 21,
     "metadata": {},
     "output_type": "execute_result"
    }
   ],
   "source": [
    "from sklearn.svm import SVC\n",
    "from sklearn.metrics import accuracy_score\n",
    "\n",
    "svc = SVC()\n",
    "svc.fit(X_train,Y_train)\n",
    "\n",
    "svc_Y_pred = svc.predict(X_test)\n",
    "# svc.score(X_test,Y_test)\n",
    "svc_accuracy = accuracy_score(svc_Y_pred,Y_test)\n",
    "svc_accuracy"
   ]
  },
  {
   "cell_type": "code",
   "execution_count": 22,
   "id": "62102363-a33e-4aa6-b5cd-c42031e5f686",
   "metadata": {},
   "outputs": [
    {
     "data": {
      "image/png": "[encoded data removed]",
      "text/plain": [
       "<Figure size 1000x700 with 2 Axes>"
      ]
     },
     "metadata": {},
     "output_type": "display_data"
    }
   ],
   "source": [
    "# from sklearn.metrics import confusion_matrix\n",
    "# import matplotlib.pyplot as plt\n",
    "# import seaborn as sns\n",
    "\n",
    "conf_mat = confusion_matrix(Y_test,svc_Y_pred)\n",
    "fig = plt.figure(figsize=(10,7))\n",
    "\n",
    "\n",
    "grp_name = [\"True Neg\",\"False Pos\",\"False Neg\",\"True Pos\"]\n",
    "grp_counts = [\"{0:0.0f}\".format(value) for value in conf_mat.flatten()]\n",
    "labels = [f\"{v1}\\n{v2}\" for v1,v2 in zip(grp_name,grp_counts)]\n",
    "labels = np.asarray(labels).reshape(2,2)\n",
    "\n",
    "sns.heatmap(conf_mat, annot=labels, annot_kws={\"size\": 16}, fmt=\"\")\n",
    "plt.title(\"Confusion Matrix\")\n",
    "plt.xlabel(\"Predicted Label\")\n",
    "plt.ylabel(\"True Label\")\n",
    "plt.show()"
   ]
  },
  {
   "cell_type": "markdown",
   "id": "37254904-ff38-4af8-a251-357e6fd11486",
   "metadata": {},
   "source": [
    "# Random Forest"
   ]
  },
  {
   "cell_type": "code",
   "execution_count": 23,
   "id": "45cb78e1-d558-4698-a8b7-0686f5ae91e5",
   "metadata": {},
   "outputs": [
    {
     "data": {
      "text/plain": [
       "0.8089887640449438"
      ]
     },
     "execution_count": 23,
     "metadata": {},
     "output_type": "execute_result"
    }
   ],
   "source": [
    "from sklearn.ensemble import RandomForestClassifier\n",
    "from sklearn.metrics import accuracy_score\n",
    "\n",
    "random_forest = RandomForestClassifier(n_estimators=1000)\n",
    "random_forest.fit(X_train,Y_train)\n",
    "\n",
    "random_forest_Y_pred = random_forest.predict(X_test)\n",
    "# random_forest.score(X_test,Y_test)\n",
    "random_forest_accuracy = accuracy_score(random_forest_Y_pred,Y_test)\n",
    "random_forest_accuracy"
   ]
  },
  {
   "cell_type": "code",
   "execution_count": 24,
   "id": "f6cb6fa9-0fa3-44b9-8890-451a87be2072",
   "metadata": {},
   "outputs": [
    {
     "data": {
      "image/png": "[encoded data removed]",
      "text/plain": [
       "<Figure size 1000x700 with 2 Axes>"
      ]
     },
     "metadata": {},
     "output_type": "display_data"
    }
   ],
   "source": [
    "# from sklearn.metrics import confusion_matrix\n",
    "# import matplotlib.pyplot as plt\n",
    "# import seaborn as sns\n",
    "\n",
    "conf_mat = confusion_matrix(Y_test,random_forest_Y_pred)\n",
    "fig = plt.figure(figsize=(10,7))\n",
    "\n",
    "\n",
    "grp_name = [\"True Neg\",\"False Pos\",\"False Neg\",\"True Pos\"]\n",
    "grp_counts = [\"{0:0.0f}\".format(value) for value in conf_mat.flatten()]\n",
    "labels = [f\"{v1}\\n{v2}\" for v1,v2 in zip(grp_name,grp_counts)]\n",
    "labels = np.asarray(labels).reshape(2,2)\n",
    "\n",
    "sns.heatmap(conf_mat, annot=labels, annot_kws={\"size\": 16}, fmt=\"\")\n",
    "plt.title(\"Confusion Matrix\")\n",
    "plt.xlabel(\"Predicted Label\")\n",
    "plt.ylabel(\"True Label\")\n",
    "plt.show()"
   ]
  },
  {
   "cell_type": "markdown",
   "id": "d1b8d9ef-594a-4598-b645-05ed0200e46b",
   "metadata": {},
   "source": [
    "# Gaussian Naive Bayes"
   ]
  },
  {
   "cell_type": "code",
   "execution_count": 25,
   "id": "6311b5ae-a1c5-42ee-ab3d-44b3d0fc1e27",
   "metadata": {},
   "outputs": [
    {
     "data": {
      "text/plain": [
       "0.8202247191011236"
      ]
     },
     "execution_count": 25,
     "metadata": {},
     "output_type": "execute_result"
    }
   ],
   "source": [
    "from sklearn.naive_bayes import GaussianNB\n",
    "from sklearn.metrics import accuracy_score\n",
    "\n",
    "gaussian = GaussianNB()\n",
    "gaussian.fit(X_train,Y_train)\n",
    "\n",
    "gaussian_Y_pred = gaussian.predict(X_test)\n",
    "# gaussian.score(X_test,Y_test)\n",
    "gaussian_accuracy = accuracy_score(gaussian_Y_pred,Y_test)\n",
    "gaussian_accuracy"
   ]
  },
  {
   "cell_type": "markdown",
   "id": "3a7c0358-170c-471b-8eb3-a5a3cca93fd6",
   "metadata": {},
   "source": [
    "# Logistic Regression"
   ]
  },
  {
   "cell_type": "code",
   "execution_count": 26,
   "id": "33a41c40-5092-4643-b2bf-c4b2798b5e88",
   "metadata": {},
   "outputs": [
    {
     "data": {
      "text/plain": [
       "0.8539325842696629"
      ]
     },
     "execution_count": 26,
     "metadata": {},
     "output_type": "execute_result"
    }
   ],
   "source": [
    "from sklearn.linear_model import LogisticRegression\n",
    "from sklearn.metrics import accuracy_score\n",
    "\n",
    "lg = LogisticRegression()\n",
    "lg.fit(X_train,Y_train)\n",
    "\n",
    "lg_Y_pred = lg.predict(X_test)\n",
    "# gaussian.score(X_test,Y_test)\n",
    "lg_accuracy = accuracy_score(lg_Y_pred,Y_test)\n",
    "lg_accuracy"
   ]
  },
  {
   "cell_type": "markdown",
   "id": "419c3f2e-ea3a-4c23-8335-4d4b0bbfd081",
   "metadata": {},
   "source": [
    "# Single Input Prediction"
   ]
  },
  {
   "cell_type": "code",
   "execution_count": 27,
   "id": "21286279-ee05-4c81-8976-9ded15d51fe3",
   "metadata": {},
   "outputs": [
    {
     "name": "stdout",
     "output_type": "stream",
     "text": [
      "Predicted Class : 1\n",
      "Actual Class : 1\n"
     ]
    }
   ],
   "source": [
    "print(\"Predicted Class :\",random_forest.predict(X_test[25].reshape(1,-1))[0])\n",
    "print(\"Actual Class :\",Y_test.iloc[25])"
   ]
  },
  {
   "cell_type": "code",
   "execution_count": 28,
   "id": "47c40d30-f73d-49f1-9c73-b9ea606f0669",
   "metadata": {},
   "outputs": [
    {
     "name": "stdout",
     "output_type": "stream",
     "text": [
      "Predicted Class : 1\n",
      "Actual Class : 1\n"
     ]
    }
   ],
   "source": [
    "print(\"Predicted Class :\",random_forest.predict(X_test[35].reshape(1,-1))[0])\n",
    "print(\"Actual Class :\",Y_test.iloc[35])"
   ]
  },
  {
   "cell_type": "markdown",
   "id": "63273743-587a-4db8-b6dd-96f801f78485",
   "metadata": {},
   "source": [
    "# Predictive system"
   ]
  },
  {
   "cell_type": "code",
   "execution_count": 29,
   "id": "1f64accf-6b03-4d56-b3a0-97099e336e29",
   "metadata": {},
   "outputs": [],
   "source": [
    "def prediction(sl_no,gender,ssc_p,hsc_p,degree_p,workex,etest_p,specialisation,mba_p):\n",
    "    data={\"sl_no\":[sl_no],\n",
    "          \"gender\":[gender],\n",
    "          \"ssc_p\":[ssc_p],\n",
    "          \"hsc_p\":[hsc_p],\n",
    "          \"degree_p\":[degree_p],\n",
    "          \"workex\":[workex],\n",
    "          \"etest_p\":[etest_p],\n",
    "          \"specialisation\":[specialisation],\n",
    "          \"mba_p\":[mba_p]}\n",
    "    data=pd.DataFrame(data)\n",
    "\n",
    "    data[\"gender\"]=data[\"gender\"].map({\"M\":0,\"F\":1})\n",
    "    data[\"workex\"]=data[\"workex\"].map({\"No\":0,\"Yes\":1})\n",
    "    data[\"specialisation\"]=data[\"specialisation\"].map({\"Mkt&HR\":0,\"Mkt&Fin\":1})\n",
    "\n",
    "    scaled_df = scaler.transform(data)\n",
    "    result=knn.predict(scaled_df).reshape(1,-1)\n",
    "    return result[0]\n",
    "\n",
    "    "
   ]
  },
  {
   "cell_type": "code",
   "execution_count": 30,
   "id": "86f9d5eb-88c9-4156-8049-3914ba5c2908",
   "metadata": {},
   "outputs": [
    {
     "name": "stdout",
     "output_type": "stream",
     "text": [
      "Placed\n"
     ]
    }
   ],
   "source": [
    "sl_no=11\n",
    "gender=\"F\"\n",
    "ssc_p=58.\n",
    "hsc_p=61.\n",
    "degree_p=60. \n",
    "workex=\"Yes\"\n",
    "etest_p=62.\n",
    "specialisation=\"Mkt&Fin\"\n",
    "mba_p=60.85\n",
    "\n",
    "result = prediction(sl_no,gender,ssc_p,hsc_p,degree_p,workex,etest_p,specialisation,mba_p)\n",
    "if result[0]:\n",
    "    print(\"Placed\")\n",
    "else:\n",
    "    print(\"Not Placed\")"
   ]
  },
  {
   "cell_type": "markdown",
   "id": "50624c02-2ee0-4690-aff5-c4f869318885",
   "metadata": {},
   "source": [
    "# Save Files"
   ]
  },
  {
   "cell_type": "code",
   "execution_count": 32,
   "id": "c93f00da-7f88-477c-8466-78d11af54be5",
   "metadata": {},
   "outputs": [],
   "source": [
    "import pickle\n",
    "pickle.dump(knn,open(\"Models/model.pkl\",\"wb\"))\n",
    "pickle.dump(scaler,open(\"Models/scaler.pkl\",\"wb\"))"
   ]
  },
  {
   "cell_type": "code",
   "execution_count": null,
   "id": "97d881c7-a7f5-4898-8ce4-52ab8d897729",
   "metadata": {},
   "outputs": [],
   "source": []
  }
 ],
 "metadata": {
  "kernelspec": {
   "display_name": "Python 3 (ipykernel)",
   "language": "python",
   "name": "python3"
  },
  "language_info": {
   "codemirror_mode": {
    "name": "ipython",
    "version": 3
   },
   "file_extension": ".py",
   "mimetype": "text/x-python",
   "name": "python",
   "nbconvert_exporter": "python",
   "pygments_lexer": "ipython3",
   "version": "3.12.1"
  }
 },
 "nbformat": 4,
 "nbformat_minor": 5
}
